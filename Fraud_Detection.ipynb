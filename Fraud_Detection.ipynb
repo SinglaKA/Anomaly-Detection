{
 "cells": [
  {
   "cell_type": "code",
   "execution_count": 1,
   "metadata": {},
   "outputs": [],
   "source": [
    "import pandas as pd\n",
    "import numpy as np\n",
    "import seaborn as sns\n",
    "import matplotlib.pyplot as plt\n",
    "from sklearn.ensemble import IsolationForest\n",
    "from sklearn.metrics import accuracy_score, classification_report\n",
    "from sklearn.neighbors import LocalOutlierFactor"
   ]
  },
  {
   "cell_type": "code",
   "execution_count": 2,
   "metadata": {},
   "outputs": [
    {
     "data": {
      "text/html": [
       "<div>\n",
       "<style scoped>\n",
       "    .dataframe tbody tr th:only-of-type {\n",
       "        vertical-align: middle;\n",
       "    }\n",
       "\n",
       "    .dataframe tbody tr th {\n",
       "        vertical-align: top;\n",
       "    }\n",
       "\n",
       "    .dataframe thead th {\n",
       "        text-align: right;\n",
       "    }\n",
       "</style>\n",
       "<table border=\"1\" class=\"dataframe\">\n",
       "  <thead>\n",
       "    <tr style=\"text-align: right;\">\n",
       "      <th></th>\n",
       "      <th>Time</th>\n",
       "      <th>V1</th>\n",
       "      <th>V2</th>\n",
       "      <th>V3</th>\n",
       "      <th>V4</th>\n",
       "      <th>V5</th>\n",
       "      <th>V6</th>\n",
       "      <th>V7</th>\n",
       "      <th>V8</th>\n",
       "      <th>Amount</th>\n",
       "      <th>Class</th>\n",
       "    </tr>\n",
       "  </thead>\n",
       "  <tbody>\n",
       "    <tr>\n",
       "      <th>0</th>\n",
       "      <td>0</td>\n",
       "      <td>-1.359807</td>\n",
       "      <td>-0.072781</td>\n",
       "      <td>2.536347</td>\n",
       "      <td>1.378155</td>\n",
       "      <td>-0.338321</td>\n",
       "      <td>0.462388</td>\n",
       "      <td>0.239599</td>\n",
       "      <td>0.098698</td>\n",
       "      <td>149.62</td>\n",
       "      <td>0</td>\n",
       "    </tr>\n",
       "    <tr>\n",
       "      <th>1</th>\n",
       "      <td>0</td>\n",
       "      <td>1.191857</td>\n",
       "      <td>0.266151</td>\n",
       "      <td>0.166480</td>\n",
       "      <td>0.448154</td>\n",
       "      <td>0.060018</td>\n",
       "      <td>-0.082361</td>\n",
       "      <td>-0.078803</td>\n",
       "      <td>0.085102</td>\n",
       "      <td>2.69</td>\n",
       "      <td>0</td>\n",
       "    </tr>\n",
       "    <tr>\n",
       "      <th>2</th>\n",
       "      <td>1</td>\n",
       "      <td>-1.358354</td>\n",
       "      <td>-1.340163</td>\n",
       "      <td>1.773209</td>\n",
       "      <td>0.379780</td>\n",
       "      <td>-0.503198</td>\n",
       "      <td>1.800499</td>\n",
       "      <td>0.791461</td>\n",
       "      <td>0.247676</td>\n",
       "      <td>378.66</td>\n",
       "      <td>0</td>\n",
       "    </tr>\n",
       "    <tr>\n",
       "      <th>3</th>\n",
       "      <td>1</td>\n",
       "      <td>-0.966272</td>\n",
       "      <td>-0.185226</td>\n",
       "      <td>1.792993</td>\n",
       "      <td>-0.863291</td>\n",
       "      <td>-0.010309</td>\n",
       "      <td>1.247203</td>\n",
       "      <td>0.237609</td>\n",
       "      <td>0.377436</td>\n",
       "      <td>123.50</td>\n",
       "      <td>0</td>\n",
       "    </tr>\n",
       "    <tr>\n",
       "      <th>4</th>\n",
       "      <td>2</td>\n",
       "      <td>-1.158233</td>\n",
       "      <td>0.877737</td>\n",
       "      <td>1.548718</td>\n",
       "      <td>0.403034</td>\n",
       "      <td>-0.407193</td>\n",
       "      <td>0.095921</td>\n",
       "      <td>0.592941</td>\n",
       "      <td>-0.270533</td>\n",
       "      <td>69.99</td>\n",
       "      <td>0</td>\n",
       "    </tr>\n",
       "  </tbody>\n",
       "</table>\n",
       "</div>"
      ],
      "text/plain": [
       "   Time        V1        V2        V3        V4        V5        V6        V7  \\\n",
       "0     0 -1.359807 -0.072781  2.536347  1.378155 -0.338321  0.462388  0.239599   \n",
       "1     0  1.191857  0.266151  0.166480  0.448154  0.060018 -0.082361 -0.078803   \n",
       "2     1 -1.358354 -1.340163  1.773209  0.379780 -0.503198  1.800499  0.791461   \n",
       "3     1 -0.966272 -0.185226  1.792993 -0.863291 -0.010309  1.247203  0.237609   \n",
       "4     2 -1.158233  0.877737  1.548718  0.403034 -0.407193  0.095921  0.592941   \n",
       "\n",
       "         V8  Amount  Class  \n",
       "0  0.098698  149.62      0  \n",
       "1  0.085102    2.69      0  \n",
       "2  0.247676  378.66      0  \n",
       "3  0.377436  123.50      0  \n",
       "4 -0.270533   69.99      0  "
      ]
     },
     "execution_count": 2,
     "metadata": {},
     "output_type": "execute_result"
    }
   ],
   "source": [
    "# 0 in the class is Normal customer and 1 refers to fraud or anamoly.  \n",
    "file = pd.read_csv('/home/ashish/Downloads/anamoly/creditcard.csv')\n",
    "file.head()\n",
    "#Vn are the PCA derived features. The original features of the dataset are not shared for the confidentiality issues."
   ]
  },
  {
   "cell_type": "code",
   "execution_count": 3,
   "metadata": {},
   "outputs": [
    {
     "name": "stdout",
     "output_type": "stream",
     "text": [
      "<class 'pandas.core.frame.DataFrame'>\n",
      "RangeIndex: 150546 entries, 0 to 150545\n",
      "Data columns (total 11 columns):\n",
      " #   Column  Non-Null Count   Dtype  \n",
      "---  ------  --------------   -----  \n",
      " 0   Time    150546 non-null  int64  \n",
      " 1   V1      150546 non-null  float64\n",
      " 2   V2      150546 non-null  float64\n",
      " 3   V3      150546 non-null  float64\n",
      " 4   V4      150546 non-null  float64\n",
      " 5   V5      150546 non-null  float64\n",
      " 6   V6      150546 non-null  float64\n",
      " 7   V7      150546 non-null  float64\n",
      " 8   V8      150546 non-null  float64\n",
      " 9   Amount  150546 non-null  float64\n",
      " 10  Class   150546 non-null  int64  \n",
      "dtypes: float64(9), int64(2)\n",
      "memory usage: 12.6 MB\n"
     ]
    }
   ],
   "source": [
    "file.info()"
   ]
  },
  {
   "cell_type": "code",
   "execution_count": 4,
   "metadata": {},
   "outputs": [
    {
     "data": {
      "text/html": [
       "<div>\n",
       "<style scoped>\n",
       "    .dataframe tbody tr th:only-of-type {\n",
       "        vertical-align: middle;\n",
       "    }\n",
       "\n",
       "    .dataframe tbody tr th {\n",
       "        vertical-align: top;\n",
       "    }\n",
       "\n",
       "    .dataframe thead th {\n",
       "        text-align: right;\n",
       "    }\n",
       "</style>\n",
       "<table border=\"1\" class=\"dataframe\">\n",
       "  <thead>\n",
       "    <tr style=\"text-align: right;\">\n",
       "      <th></th>\n",
       "      <th>Time</th>\n",
       "      <th>V1</th>\n",
       "      <th>V2</th>\n",
       "      <th>V3</th>\n",
       "      <th>V4</th>\n",
       "      <th>V5</th>\n",
       "      <th>V6</th>\n",
       "      <th>V7</th>\n",
       "      <th>V8</th>\n",
       "      <th>Amount</th>\n",
       "      <th>Class</th>\n",
       "    </tr>\n",
       "  </thead>\n",
       "  <tbody>\n",
       "    <tr>\n",
       "      <th>count</th>\n",
       "      <td>150546.00000</td>\n",
       "      <td>150546.000000</td>\n",
       "      <td>150546.000000</td>\n",
       "      <td>150546.000000</td>\n",
       "      <td>150546.000000</td>\n",
       "      <td>150546.000000</td>\n",
       "      <td>150546.000000</td>\n",
       "      <td>150546.000000</td>\n",
       "      <td>150546.000000</td>\n",
       "      <td>150546.000000</td>\n",
       "      <td>150546.000000</td>\n",
       "    </tr>\n",
       "    <tr>\n",
       "      <th>mean</th>\n",
       "      <td>54334.95618</td>\n",
       "      <td>-0.242036</td>\n",
       "      <td>0.039531</td>\n",
       "      <td>0.626892</td>\n",
       "      <td>0.129117</td>\n",
       "      <td>-0.250373</td>\n",
       "      <td>0.071944</td>\n",
       "      <td>-0.103488</td>\n",
       "      <td>0.056959</td>\n",
       "      <td>89.142542</td>\n",
       "      <td>0.001946</td>\n",
       "    </tr>\n",
       "    <tr>\n",
       "      <th>std</th>\n",
       "      <td>22065.73941</td>\n",
       "      <td>1.819657</td>\n",
       "      <td>1.610356</td>\n",
       "      <td>1.290054</td>\n",
       "      <td>1.340863</td>\n",
       "      <td>1.310506</td>\n",
       "      <td>1.287251</td>\n",
       "      <td>1.163327</td>\n",
       "      <td>1.234732</td>\n",
       "      <td>242.949391</td>\n",
       "      <td>0.044074</td>\n",
       "    </tr>\n",
       "    <tr>\n",
       "      <th>min</th>\n",
       "      <td>0.00000</td>\n",
       "      <td>-56.407510</td>\n",
       "      <td>-72.715728</td>\n",
       "      <td>-33.680984</td>\n",
       "      <td>-5.519697</td>\n",
       "      <td>-42.147898</td>\n",
       "      <td>-26.160506</td>\n",
       "      <td>-31.764946</td>\n",
       "      <td>-73.216718</td>\n",
       "      <td>0.000000</td>\n",
       "      <td>0.000000</td>\n",
       "    </tr>\n",
       "    <tr>\n",
       "      <th>25%</th>\n",
       "      <td>39045.00000</td>\n",
       "      <td>-1.024740</td>\n",
       "      <td>-0.545986</td>\n",
       "      <td>0.122467</td>\n",
       "      <td>-0.727354</td>\n",
       "      <td>-0.884107</td>\n",
       "      <td>-0.673049</td>\n",
       "      <td>-0.597827</td>\n",
       "      <td>-0.138688</td>\n",
       "      <td>5.760000</td>\n",
       "      <td>0.000000</td>\n",
       "    </tr>\n",
       "    <tr>\n",
       "      <th>50%</th>\n",
       "      <td>55980.00000</td>\n",
       "      <td>-0.268193</td>\n",
       "      <td>0.117673</td>\n",
       "      <td>0.720359</td>\n",
       "      <td>0.152973</td>\n",
       "      <td>-0.289954</td>\n",
       "      <td>-0.186799</td>\n",
       "      <td>-0.052573</td>\n",
       "      <td>0.075789</td>\n",
       "      <td>22.790000</td>\n",
       "      <td>0.000000</td>\n",
       "    </tr>\n",
       "    <tr>\n",
       "      <th>75%</th>\n",
       "      <td>72850.00000</td>\n",
       "      <td>1.161222</td>\n",
       "      <td>0.801489</td>\n",
       "      <td>1.345525</td>\n",
       "      <td>0.978178</td>\n",
       "      <td>0.277323</td>\n",
       "      <td>0.459355</td>\n",
       "      <td>0.428137</td>\n",
       "      <td>0.372959</td>\n",
       "      <td>79.415000</td>\n",
       "      <td>0.000000</td>\n",
       "    </tr>\n",
       "    <tr>\n",
       "      <th>max</th>\n",
       "      <td>93631.00000</td>\n",
       "      <td>2.401777</td>\n",
       "      <td>18.902453</td>\n",
       "      <td>9.382558</td>\n",
       "      <td>16.715537</td>\n",
       "      <td>34.801666</td>\n",
       "      <td>22.529298</td>\n",
       "      <td>36.677268</td>\n",
       "      <td>20.007208</td>\n",
       "      <td>19656.530000</td>\n",
       "      <td>1.000000</td>\n",
       "    </tr>\n",
       "  </tbody>\n",
       "</table>\n",
       "</div>"
      ],
      "text/plain": [
       "               Time             V1             V2             V3  \\\n",
       "count  150546.00000  150546.000000  150546.000000  150546.000000   \n",
       "mean    54334.95618      -0.242036       0.039531       0.626892   \n",
       "std     22065.73941       1.819657       1.610356       1.290054   \n",
       "min         0.00000     -56.407510     -72.715728     -33.680984   \n",
       "25%     39045.00000      -1.024740      -0.545986       0.122467   \n",
       "50%     55980.00000      -0.268193       0.117673       0.720359   \n",
       "75%     72850.00000       1.161222       0.801489       1.345525   \n",
       "max     93631.00000       2.401777      18.902453       9.382558   \n",
       "\n",
       "                  V4             V5             V6             V7  \\\n",
       "count  150546.000000  150546.000000  150546.000000  150546.000000   \n",
       "mean        0.129117      -0.250373       0.071944      -0.103488   \n",
       "std         1.340863       1.310506       1.287251       1.163327   \n",
       "min        -5.519697     -42.147898     -26.160506     -31.764946   \n",
       "25%        -0.727354      -0.884107      -0.673049      -0.597827   \n",
       "50%         0.152973      -0.289954      -0.186799      -0.052573   \n",
       "75%         0.978178       0.277323       0.459355       0.428137   \n",
       "max        16.715537      34.801666      22.529298      36.677268   \n",
       "\n",
       "                  V8         Amount          Class  \n",
       "count  150546.000000  150546.000000  150546.000000  \n",
       "mean        0.056959      89.142542       0.001946  \n",
       "std         1.234732     242.949391       0.044074  \n",
       "min       -73.216718       0.000000       0.000000  \n",
       "25%        -0.138688       5.760000       0.000000  \n",
       "50%         0.075789      22.790000       0.000000  \n",
       "75%         0.372959      79.415000       0.000000  \n",
       "max        20.007208   19656.530000       1.000000  "
      ]
     },
     "execution_count": 4,
     "metadata": {},
     "output_type": "execute_result"
    }
   ],
   "source": [
    "file.describe()"
   ]
  },
  {
   "cell_type": "code",
   "execution_count": 5,
   "metadata": {},
   "outputs": [
    {
     "data": {
      "text/plain": [
       "(150546, 11)"
      ]
     },
     "execution_count": 5,
     "metadata": {},
     "output_type": "execute_result"
    }
   ],
   "source": [
    "file.shape"
   ]
  },
  {
   "cell_type": "code",
   "execution_count": 6,
   "metadata": {},
   "outputs": [
    {
     "data": {
      "text/plain": [
       "0"
      ]
     },
     "execution_count": 6,
     "metadata": {},
     "output_type": "execute_result"
    }
   ],
   "source": [
    "file.isna().sum().sum()"
   ]
  },
  {
   "cell_type": "code",
   "execution_count": 7,
   "metadata": {},
   "outputs": [
    {
     "data": {
      "text/plain": [
       "array([0, 1])"
      ]
     },
     "execution_count": 7,
     "metadata": {},
     "output_type": "execute_result"
    }
   ],
   "source": [
    "file['Class'].unique()"
   ]
  },
  {
   "cell_type": "code",
   "execution_count": 8,
   "metadata": {},
   "outputs": [
    {
     "data": {
      "text/plain": [
       "Text(0.5, 1.0, 'Transaction Class Distribution')"
      ]
     },
     "execution_count": 8,
     "metadata": {},
     "output_type": "execute_result"
    },
    {
     "data": {
      "image/png": "[encoded data removed]",
      "text/plain": [
       "<Figure size 640x480 with 1 Axes>"
      ]
     },
     "metadata": {},
     "output_type": "display_data"
    }
   ],
   "source": [
    "#Analysing the customers who fraud\n",
    "file['Class'].value_counts().plot(kind = 'bar', rot = 0)\n",
    "plt.xlabel('Type of Customer')\n",
    "plt.xticks(range(2), ['Normal','Fraud'])\n",
    "plt.ylabel('Number of Customers')\n",
    "plt.title('Transaction Class Distribution')"
   ]
  },
  {
   "cell_type": "code",
   "execution_count": 9,
   "metadata": {},
   "outputs": [
    {
     "name": "stdout",
     "output_type": "stream",
     "text": [
      "Percentage of Fraud Customers 0.1950044258683687 %\n"
     ]
    }
   ],
   "source": [
    "fraud_customers = file['Class'].value_counts()[1]/file['Class'].value_counts()[0]*100\n",
    "print(\"Percentage of Fraud Customers {} %\".format(fraud_customers))"
   ]
  },
  {
   "cell_type": "code",
   "execution_count": 10,
   "metadata": {},
   "outputs": [],
   "source": [
    "fraud = file[file['Class']==1]\n",
    "normal = file[file['Class']==0]"
   ]
  },
  {
   "cell_type": "code",
   "execution_count": 11,
   "metadata": {},
   "outputs": [
    {
     "data": {
      "image/png": "[encoded data removed]",
      "text/plain": [
       "<Figure size 640x480 with 2 Axes>"
      ]
     },
     "metadata": {},
     "output_type": "display_data"
    }
   ],
   "source": [
    "f, (ax1, ax2) = plt.subplots(2, 1, sharex=True)\n",
    "f.suptitle('Amount per transaction by class')\n",
    "bins = 50\n",
    "ax1.hist(fraud.Amount, bins = bins)\n",
    "ax1.set_title('Fraud')\n",
    "ax2.hist(normal.Amount, bins = bins)\n",
    "ax2.set_title('Normal')\n",
    "plt.xlabel('Amount ($)')\n",
    "plt.ylabel('Number of Transactions')\n",
    "plt.xlim((0, 20000))\n",
    "plt.yscale('log')\n",
    "plt.show()"
   ]
  },
  {
   "attachments": {},
   "cell_type": "markdown",
   "metadata": {},
   "source": [
    "Analysing this graph reveals that most of the customers who fraud are who took small loans from the bank through their credit card which is upto $1000. One of the analysis from this can be that these are poor people who took loan for some of their needs and were not able to repay it. "
   ]
  },
  {
   "attachments": {},
   "cell_type": "markdown",
   "metadata": {},
   "source": [
    "Isolation Forest Algorithm"
   ]
  },
  {
   "cell_type": "code",
   "execution_count": 12,
   "metadata": {},
   "outputs": [
    {
     "name": "stderr",
     "output_type": "stream",
     "text": [
      "/home/ashish/anaconda3/envs/mldl/lib/python3.9/site-packages/sklearn/base.py:450: UserWarning: X does not have valid feature names, but IsolationForest was fitted with feature names\n",
      "  warnings.warn(\n"
     ]
    },
    {
     "name": "stdout",
     "output_type": "stream",
     "text": [
      "Isolation Forest Algorithm\n",
      "accuracy score 0.8062519097153029\n",
      "Report               precision    recall  f1-score   support\n",
      "\n",
      "           0       1.00      0.81      0.89    150253\n",
      "           1       0.01      0.82      0.02       293\n",
      "\n",
      "    accuracy                           0.81    150546\n",
      "   macro avg       0.50      0.81      0.45    150546\n",
      "weighted avg       1.00      0.81      0.89    150546\n",
      "\n"
     ]
    }
   ],
   "source": [
    "cols = [c for c in file.columns if c not in ['Class']]\n",
    "features = file[cols]\n",
    "target = file['Class']\n",
    "classifier = IsolationForest(n_estimators=100, max_samples=len(features),contamination=fraud_customers,random_state=42, verbose=0)\n",
    "classifier.fit(features)\n",
    "score_pred = classifier.decision_function(features)\n",
    "ypred = classifier.predict(features)\n",
    "ypred[ypred ==1] =0\n",
    "ypred[ypred== -1] =1\n",
    "print(\"Isolation Forest Algorithm\")\n",
    "print(\"accuracy score\",accuracy_score(target, ypred))\n",
    "print(\"Report\",classification_report(target, ypred))"
   ]
  },
  {
   "attachments": {},
   "cell_type": "markdown",
   "metadata": {},
   "source": [
    "This model can precit with 80% accuracy that given the parameters, if a customer will fraud the bank or not. "
   ]
  }
 ],
 "metadata": {
  "kernelspec": {
   "display_name": "mldl",
   "language": "python",
   "name": "python3"
  },
  "language_info": {
   "codemirror_mode": {
    "name": "ipython",
    "version": 3
   },
   "file_extension": ".py",
   "mimetype": "text/x-python",
   "name": "python",
   "nbconvert_exporter": "python",
   "pygments_lexer": "ipython3",
   "version": "3.9.12"
  },
  "orig_nbformat": 4
 },
 "nbformat": 4,
 "nbformat_minor": 2
}
